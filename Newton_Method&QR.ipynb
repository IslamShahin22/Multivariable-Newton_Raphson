{
 "cells": [
  {
   "cell_type": "markdown",
   "metadata": {
    "id": "xpMBxOhw5ZOZ"
   },
   "source": [
    "<h1><center> Multivariable  Newton Raphson Method</center></h1>"
   ]
  },
  {
   "cell_type": "markdown",
   "metadata": {
    "id": "UhWYkhP_5ds8"
   },
   "source": [
    "<ol>\n",
    "<h2> This Notebook divided into three parts </h2> \n",
    "<h3><li>Using Newton Rapson method for solving system of nonlinear equations</li></h3>\n",
    "<h3><li>Using Newton Rapson method for solving unconstrained optimisation</li></h3>\n",
    "<h3><li> QR factorization using Gram–Schmidt</li></h3>    \n",
    "    \n",
    "\n",
    "</ol>"
   ]
  },
  {
   "cell_type": "markdown",
   "metadata": {
    "id": "J4qUrJPZ6Pu9"
   },
   "source": [
    "<h2><center> Newton Rapson method for solving system of nonlinear equations</center></h2>"
   ]
  },
  {
   "cell_type": "markdown",
   "metadata": {
    "id": "2Q48OB_T6TK1"
   },
   "source": [
    "<b>To solve system of nonlinear equations using Newton Raphson method you should write the system in a specific structure , that structure is </b> \n",
    " \n",
    "\n",
    "$$\\underline{F(\\vec{x})}=F(x_1,x_2,\\ldots,x_n)=\n",
    "\\begin{pmatrix}\n",
    "f_1\\\\\n",
    "f_2 \\\\ \\vdots \\\\ f_n\n",
    "\\end{pmatrix}\n",
    "= \\underline{0}$$\n",
    "<b>where $F$ is a vector containing all functions equal to zero vector</b>\n",
    "\n",
    "\n",
    "<center>$W(\\vec{x})=\n",
    "\\begin{bmatrix}\n",
    "\\nabla f_1(\\vec{x}) \\\\ \\nabla f_2(\\vec{x}) \\\\ \\vdots \\\\  \\nabla f_n(\\vec{x}) \n",
    "\\end{bmatrix}\n",
    "=\\begin{bmatrix}\n",
    "\\frac{\\partial f_1(\\vec{x})}{\\partial x_1} \\ldots  \\frac{\\partial f_1(\\vec{x})}{\\partial x_n} \\\\ \\vdots \\\\\n",
    "\\frac{\\partial f_n(\\vec{x})}{\\partial x_1} \\ldots  \\frac{\\partial f_n(\\vec{x})}{\\partial x_n}\n",
    "\\end{bmatrix}$</center>\n",
    "\n",
    "<b>Where $W$ is a two dimentional matrix it's Rows are the gradient of functions</b>\n",
    "    <b> ,$W$ must be a nonsingular matrix</b>\n",
    "    \n",
    "<b>the iterative equation is </b>\n",
    "    \n",
    "<center>$\\underline{x_{n+1}}=\\underline{x_n} - W^{-1}(\\underline{x_n})F(\\underline{x_n})$"
   ]
  },
  {
   "cell_type": "markdown",
   "metadata": {
    "id": "wsgrFsGm6bAD"
   },
   "source": [
    "<b> Before begin solve examples first introduces the user defined function will used in all examples </b>\n",
    "\n"
   ]
  },
  {
   "cell_type": "code",
   "execution_count": 1,
   "metadata": {
    "id": "NhZxDIeY6bJ1"
   },
   "outputs": [],
   "source": [
    "#Import libraries\n",
    "from sympy import *\n",
    "import sympy as sy\n",
    "import numpy as np"
   ]
  },
  {
   "cell_type": "code",
   "execution_count": 2,
   "metadata": {
    "id": "EZZgHhJB6bPO"
   },
   "outputs": [],
   "source": [
    "def Get_Jacobian(F,Vars):\n",
    "  '''this function take fector function , varables as input and\n",
    "  generate jacobian symbolically! '''\n",
    "\n",
    "  Jacob=[]\n",
    "  \n",
    "  for fun in F:\n",
    "    gradient=[]\n",
    "    for var in Vars:\n",
    "      gradient.append(fun.diff(var))\n",
    "    \n",
    "\n",
    "    Jacob.append(gradient)\n",
    "\n",
    "  return Jacob"
   ]
  },
  {
   "cell_type": "code",
   "execution_count": 3,
   "metadata": {
    "id": "nKOrltp97wVb"
   },
   "outputs": [],
   "source": [
    "def Results(F_Vec,Jacob_Mat,x_intial,Tolerance,Show='NO'):\n",
    "  '''this function used to generate each step results take function vector after appling lambdify function\n",
    "  ,jacobian matrix, intial points , stopping critaria as a tolerance ,show to print results'''\n",
    "  Num_Of_Iterations=[] # how many iterations it take each x value to achive tolerance\n",
    "  State=[] #convargence or divargence\n",
    "  Opt_Solu=[] # set containing optimum x* to problem\n",
    "\n",
    "  for x in x_intial:\n",
    "    counter=0\n",
    "    print(end=\"\\n\") \n",
    "    print(\"Intial point is\",x)\n",
    "    norm_diff=np.array([10,10]) # any nonzero vector be okay\n",
    "    while np.max(norm_diff)>Tolerance:# check infinty norm of diffrence between current and previous vector\n",
    "      current_value=Newton_Raphson(F_Vec,Jacob_Mat,*x)\n",
    "      norm_diff=np.max(np.abs(x-current_value))\n",
    "      x=current_value\n",
    "      counter+=1\n",
    "      if Show.lower()==\"yes\":\n",
    "        print(\"Iteration {} , the current value {} norm_diff {}\".format(counter,current_value,norm_diff))\n",
    "    Num_Of_Iterations.append(counter)\n",
    "    if np.isnan(norm_diff): \n",
    "      print(\"Divargence!\") \n",
    "      State.append('Divargence')\n",
    "    else:\n",
    "      Opt_Solu.append(current_value)\n",
    "      print(\"Convargence\") \n",
    "      State.append('Convargence')\n",
    "\n",
    "  return Num_Of_Iterations,State,Opt_Solu  "
   ]
  },
  {
   "cell_type": "code",
   "execution_count": 4,
   "metadata": {
    "id": "FOVMtu0D6bRh"
   },
   "outputs": [],
   "source": [
    "def Newton_Raphson (F,Jacobian,*x_n):\n",
    "  '''this function generate newton raphson step'''\n",
    "  a=np.linalg.inv(np.array(Jacobian(*x_n)))  \n",
    "  b=np.array(F(*x_n))\n",
    "  x_next=x_n-np.matmul(a,b)\n",
    "  return x_next"
   ]
  },
  {
   "cell_type": "code",
   "execution_count": 5,
   "metadata": {
    "id": "iFP3NTfPvewD"
   },
   "outputs": [],
   "source": [
    "def Min_func(Obj,Grad,ext_points):\n",
    "  '''this functions take extreme points and return the x* and f(X*)'''\n",
    "  x_min=ext_points[0]\n",
    "  f_min=Obj(*x_min)\n",
    "  for i in range(len(ext_points)):\n",
    "    fun=Obj(*ext_points[i])\n",
    "    print(\"\\n\") \n",
    "    print(\"extreme point is\",ext_points[i])\n",
    "    print(\"the gradient at extreme point is\",Grad(*ext_points[i]))\n",
    "    print(\"the value of objective at tha points=\",Obj(*ext_points[i]))\n",
    "    if fun < f_min:\n",
    "      f_min=fun\n",
    "      x_min=ext_points[i]\n",
    "  print(\"\\n\")\n",
    "  \n",
    "  return x_min,f_min"
   ]
  },
  {
   "cell_type": "code",
   "execution_count": 6,
   "metadata": {
    "id": "Fsj6mouU5z6p"
   },
   "outputs": [],
   "source": [
    "def Gram_Schmidt_QR(A):\n",
    "  '''this function factorize matrix into QR '''\n",
    "  Q=np.zeros(A.shape)\n",
    "  R=np.zeros(A.shape)\n",
    "\n",
    "  for col in range(A.shape[1]):\n",
    "\n",
    "    u=A[:,col]\n",
    "    \n",
    "\n",
    "    for i in range(col):\n",
    "      R[i,col]=np.dot(A[:,col],Q[:,i])\n",
    "      \n",
    "      u=u-R[i,col]*Q[:,i]\n",
    "\n",
    "    Q[:,col]=u/np.linalg.norm(u,2)\n",
    "    R[col,col]=np.dot(A[:,col],Q[:,col]) \n",
    "\n",
    "  return Q,R"
   ]
  },
  {
   "cell_type": "markdown",
   "metadata": {
    "id": "KPBX4bkR8unC"
   },
   "source": [
    "## Example 1\n",
    "\n",
    " ### <center> Solve the following system: \n",
    "\n",
    "\n",
    "<h3><center> $ f_1(x,y)=x+3logx-y^2=0\\\\\n",
    "f_2(x,y)=2x^2-xy-5x+1=0 \n",
    "$</center></h3>"
   ]
  },
  {
   "cell_type": "code",
   "execution_count": 7,
   "metadata": {
    "colab": {
     "base_uri": "https://localhost:8080/"
    },
    "id": "zGKHRmz78tS9",
    "outputId": "eae5ad62-97db-4cd9-b868-4d9d5b6f35ed"
   },
   "outputs": [
    {
     "name": "stdout",
     "output_type": "stream",
     "text": [
      "Varibles (x1, x2)\n",
      "System functions [x1 - x2**2 + 3*log(x1)/log(10), 2*x1**2 - x1*x2 - 5*x1 + 1]\n"
     ]
    }
   ],
   "source": [
    "'''this cell used for write the system of equations \n",
    "for all examples this cell will be change''' \n",
    "Vars = symbols('x1 x2') #two symbols \n",
    "x1=Vars[0] \n",
    "x2=Vars[1]\n",
    "print(\"Varibles\" ,Vars)\n",
    "f1=x1+3*log(x1)/log(10)-x2**2 #f1\n",
    "f2=2*x1**2-x1*x2-5*x1+1 #f2\n",
    "F=[f1,f2]\n",
    "print(\"System functions\",F)"
   ]
  },
  {
   "cell_type": "code",
   "execution_count": 8,
   "metadata": {
    "colab": {
     "base_uri": "https://localhost:8080/"
    },
    "id": "Ja4zbttI6zH2",
    "outputId": "f5af02dc-42d5-43c9-fe6c-89bec0e8a190"
   },
   "outputs": [
    {
     "name": "stdout",
     "output_type": "stream",
     "text": [
      "The jacobian =  [[1 + 3/(x1*log(10)), -2*x2], [4*x1 - x2 - 5, -x1]]\n"
     ]
    }
   ],
   "source": [
    "Jacobian=Get_Jacobian(F,Vars) # get jacobian matrix symbolically\n",
    "print(\"The jacobian = \",Jacobian)\n",
    "#print((printing.latex(Jacobian)))"
   ]
  },
  {
   "cell_type": "markdown",
   "metadata": {
    "id": "dliU_isOGstn"
   },
   "source": [
    "## Jacobian Matrix\n",
    "$\\left[ \\left[ 1 + \\frac{3}{x_{1} \\log{\\left(10 \\right)}}, \\  - 2 x_{2}\\right], \\  \\left[ 4 x_{1} - x_{2} - 5, \\  - x_{1}\\right]\\right]$"
   ]
  },
  {
   "cell_type": "markdown",
   "metadata": {
    "id": "zCAuQNsnfeIh"
   },
   "source": [
    "\\begin{bmatrix}\n",
    "1 + \\frac{3}{x_{1} \\log{\\left(10 \\right)}} ,-x_2 \\\\ 4x_1-x_2-5 ,-x_1  \n",
    "\\end{bmatrix}"
   ]
  },
  {
   "cell_type": "code",
   "execution_count": 9,
   "metadata": {
    "id": "BmFWi3Mu7XOR"
   },
   "outputs": [],
   "source": [
    "#use lambdify to calculate numerical values \n",
    "Func_Vec = lambdify(Vars, F,'numpy')\n",
    "Jacob_Mat=lambdify(Vars,Jacobian,'numpy')"
   ]
  },
  {
   "cell_type": "code",
   "execution_count": 10,
   "metadata": {
    "colab": {
     "base_uri": "https://localhost:8080/"
    },
    "id": "ZAekAxLE7n6C",
    "outputId": "ead3792c-a442-4895-83df-44909301285a"
   },
   "outputs": [
    {
     "name": "stdout",
     "output_type": "stream",
     "text": [
      "\n",
      "Intial point is [3.4 2.2]\n",
      "Iteration 1 , the current value [3.48991237 2.26336446] norm_diff 0.08991237047186296\n",
      "Iteration 2 , the current value [3.48744465 2.26162993] norm_diff 0.0024677228781033733\n",
      "Iteration 3 , the current value [3.48744279 2.26162863] norm_diff 1.8599497493276829e-06\n",
      "Iteration 4 , the current value [3.48744279 2.26162863] norm_diff 1.057376408652999e-12\n",
      "Convargence\n",
      "\n",
      "Intial point is [1. 1.]\n",
      "Iteration 1 , the current value [ 0.04805474 -0.09610949] norm_diff 1.0961094864973022\n",
      "Iteration 2 , the current value [0.1387237 7.0157994] norm_diff 7.1119088830672155\n",
      "Iteration 3 , the current value [0.12854639 3.32683792] norm_diff 3.6889614779990634\n",
      "Iteration 4 , the current value [0.1566543  1.32807379] norm_diff 1.9987641253554602\n",
      "Iteration 5 , the current value [ 0.20384526 -0.02073067] norm_diff 1.348804464766641\n",
      "Iteration 6 , the current value [ 0.48725855 -5.4758292 ] norm_diff 5.455098531639669\n",
      "Iteration 7 , the current value [ 0.35102204 -2.65117129] norm_diff 2.8246579146009294\n",
      "Iteration 8 , the current value [ 0.17652122 -0.97948054] norm_diff 1.671690744225327\n",
      "Iteration 9 , the current value [0.20717751 0.44246867] norm_diff 1.4219492144956187\n",
      "Iteration 10 , the current value [ 0.27612882 -1.29438387] norm_diff 1.7368525404333095\n",
      "Iteration 11 , the current value [0.17627285 0.11438713] norm_diff 1.4087710022083684\n",
      "Iteration 12 , the current value [ 0.33970871 -3.06262173] norm_diff 3.177008859126321\n",
      "Iteration 13 , the current value [ 0.31807494 -1.3400406 ] norm_diff 1.7225811296869133\n",
      "Iteration 14 , the current value [0.14179117 0.10335391] norm_diff 1.4433945093156173\n",
      "Iteration 15 , the current value [ 0.31293351 -3.13898558] norm_diff 3.242339496493911\n",
      "Iteration 16 , the current value [ 0.49049215 -1.52427199] norm_diff 1.6147135949671552\n",
      "Iteration 17 , the current value [-0.23116388  0.24693151] norm_diff 1.7712034951208562\n",
      "Iteration 18 , the current value [nan nan] norm_diff nan\n",
      "Divargence!\n",
      "\n",
      "Intial point is [ 1. -5.]\n",
      "Iteration 1 , the current value [ 0.8581657  -2.56733721] norm_diff 2.4326627869043285\n",
      "Iteration 2 , the current value [ 1.28481303 -1.62123053] norm_diff 0.9461066863723848\n",
      "Iteration 3 , the current value [ 1.45780272 -1.41501581] norm_diff 0.20621471269531222\n",
      "Iteration 4 , the current value [ 1.4588315  -1.39684551] norm_diff 0.018170303009650945\n",
      "Iteration 5 , the current value [ 1.45889023 -1.39676701] norm_diff 7.849956458261254e-05\n",
      "Iteration 6 , the current value [ 1.45889023 -1.39676701] norm_diff 2.2721229342437255e-09\n",
      "Convargence\n",
      "\n",
      "Intial point is [10. 10.]\n",
      "Iteration 1 , the current value [6.13257387 5.43143467] norm_diff 4.568565334117521\n",
      "Iteration 2 , the current value [4.3357235  3.29723088] norm_diff 2.134203784379078\n",
      "Iteration 3 , the current value [3.64429474 2.45955431] norm_diff 0.8376765708599732\n",
      "Iteration 4 , the current value [3.49531312 2.27201694] norm_diff 0.1875373697357694\n",
      "Iteration 5 , the current value [3.48746537 2.26165993] norm_diff 0.010357010307772363\n",
      "Iteration 6 , the current value [3.48744279 2.26162863] norm_diff 3.1299764883030434e-05\n",
      "Iteration 7 , the current value [3.48744279 2.26162863] norm_diff 2.8140911823015813e-10\n",
      "Convargence\n",
      "\n",
      "Intial point is [  2. -10.]\n",
      "Iteration 1 , the current value [ 1.29432531 -5.08688547] norm_diff 4.913114531729318\n",
      "Iteration 2 , the current value [ 1.04459103 -2.65444738] norm_diff 2.4324380897106677\n",
      "Iteration 3 , the current value [ 1.23689451 -1.61609494] norm_diff 1.038352435727728\n",
      "Iteration 4 , the current value [ 1.46922581 -1.42402307] norm_diff 0.23233130173333616\n",
      "Iteration 5 , the current value [ 1.45891937 -1.39705853] norm_diff 0.02696453764141138\n",
      "Iteration 6 , the current value [ 1.45889022 -1.39676703] norm_diff 0.0002914965733156194\n",
      "Iteration 7 , the current value [ 1.45889023 -1.39676701] norm_diff 2.32905095209901e-08\n",
      "Convargence\n",
      "\n",
      "Intial point is [2000. 2000.]\n",
      "Iteration 1 , the current value [1000.91811262 1000.25254259] norm_diff 999.7474574102538\n",
      "Iteration 2 , the current value [501.37831698 500.38107158] norm_diff 499.8714710090481\n",
      "Iteration 3 , the current value [251.61056726 250.44940051] norm_diff 249.93167106577474\n",
      "Iteration 4 , the current value [126.73069656 125.49079439] norm_diff 124.95860612198689\n",
      "Iteration 5 , the current value [64.29819907 63.02416264] norm_diff 62.46663175581429\n",
      "Iteration 6 , the current value [33.09572838 31.81266496] norm_diff 31.21149767597175\n",
      "Iteration 7 , the current value [17.51997913 16.24371576] norm_diff 15.575749248470864\n",
      "Iteration 8 , the current value [9.77921606 8.51998632] norm_diff 7.740763067218339\n",
      "Iteration 9 , the current value [5.99538636 4.75660073] norm_diff 3.783829701233973\n",
      "Iteration 10 , the current value [4.25627424 3.0312658 ] norm_diff 1.7391121201296542\n",
      "Iteration 11 , the current value [3.61414395 2.39062561] norm_diff 0.6421302887409941\n",
      "Iteration 12 , the current value [3.49223949 2.2666453 ] norm_diff 0.12398031267857323\n",
      "Iteration 13 , the current value [3.48745028 2.26163672] norm_diff 0.005008576165560719\n",
      "Iteration 14 , the current value [3.48744279 2.26162863] norm_diff 8.092124561098757e-06\n",
      "Iteration 15 , the current value [3.48744279 2.26162863] norm_diff 2.077493732599578e-11\n",
      "Convargence\n",
      "\n",
      "Intial point is [3.4 2.2]\n",
      "Iteration 1 , the current value [3.48991237 2.26336446] norm_diff 0.08991237047186296\n",
      "Iteration 2 , the current value [3.48744465 2.26162993] norm_diff 0.0024677228781033733\n",
      "Iteration 3 , the current value [3.48744279 2.26162863] norm_diff 1.8599497493276829e-06\n",
      "Iteration 4 , the current value [3.48744279 2.26162863] norm_diff 1.057376408652999e-12\n",
      "Convargence\n",
      "\n",
      "Intial point is [4. 4.]\n",
      "Iteration 1 , the current value [3.66910781 2.67093866] norm_diff 1.329061338738573\n",
      "Iteration 2 , the current value [3.5051973  2.29780421] norm_diff 0.37313445487539054\n",
      "Iteration 3 , the current value [3.48761879 2.26196958] norm_diff 0.035834627729351975\n",
      "Iteration 4 , the current value [3.4874428  2.26162866] norm_diff 0.0003409170334292\n",
      "Iteration 5 , the current value [3.48744279 2.26162863] norm_diff 3.106966106614095e-08\n",
      "Convargence\n",
      "\n",
      "Intial point is [1. 1.]\n",
      "Iteration 1 , the current value [ 0.04805474 -0.09610949] norm_diff 1.0961094864973022\n",
      "Iteration 2 , the current value [0.1387237 7.0157994] norm_diff 7.1119088830672155\n",
      "Iteration 3 , the current value [0.12854639 3.32683792] norm_diff 3.6889614779990634\n",
      "Iteration 4 , the current value [0.1566543  1.32807379] norm_diff 1.9987641253554602\n",
      "Iteration 5 , the current value [ 0.20384526 -0.02073067] norm_diff 1.348804464766641\n",
      "Iteration 6 , the current value [ 0.48725855 -5.4758292 ] norm_diff 5.455098531639669\n",
      "Iteration 7 , the current value [ 0.35102204 -2.65117129] norm_diff 2.8246579146009294\n",
      "Iteration 8 , the current value [ 0.17652122 -0.97948054] norm_diff 1.671690744225327\n",
      "Iteration 9 , the current value [0.20717751 0.44246867] norm_diff 1.4219492144956187\n",
      "Iteration 10 , the current value [ 0.27612882 -1.29438387] norm_diff 1.7368525404333095\n",
      "Iteration 11 , the current value [0.17627285 0.11438713] norm_diff 1.4087710022083684\n",
      "Iteration 12 , the current value [ 0.33970871 -3.06262173] norm_diff 3.177008859126321\n",
      "Iteration 13 , the current value [ 0.31807494 -1.3400406 ] norm_diff 1.7225811296869133\n",
      "Iteration 14 , the current value [0.14179117 0.10335391] norm_diff 1.4433945093156173\n",
      "Iteration 15 , the current value [ 0.31293351 -3.13898558] norm_diff 3.242339496493911\n",
      "Iteration 16 , the current value [ 0.49049215 -1.52427199] norm_diff 1.6147135949671552\n",
      "Iteration 17 , the current value [-0.23116388  0.24693151] norm_diff 1.7712034951208562\n",
      "Iteration 18 , the current value [nan nan] norm_diff nan\n",
      "Divargence!\n",
      "\n",
      "Intial point is [20. 20.]\n",
      "Iteration 1 , the current value [11.02126769 10.35848614] norm_diff 9.641513860263071\n",
      "Iteration 2 , the current value [6.60554086 5.62381714] norm_diff 4.734669001643268\n",
      "Iteration 3 , the current value [4.52934921 3.39688174] norm_diff 2.226935401214476\n",
      "Iteration 4 , the current value [3.69899621 2.49744567] norm_diff 0.899436069137812\n",
      "Iteration 5 , the current value [3.5005352  2.27674994] norm_diff 0.220695727978518\n",
      "Iteration 6 , the current value [3.48750057 2.26169826] norm_diff 0.015051675527571362\n",
      "Iteration 7 , the current value [3.48744279 2.26162863] norm_diff 6.963221794809016e-05\n",
      "Iteration 8 , the current value [3.48744279 2.26162863] norm_diff 1.4637415723939284e-09\n",
      "Convargence\n"
     ]
    },
    {
     "name": "stderr",
     "output_type": "stream",
     "text": [
      "<lambdifygenerated-1>:2: RuntimeWarning: invalid value encountered in log\n",
      "  return [x1 - x2**2 + 3*log(x1)/log(10), 2*x1**2 - x1*x2 - 5*x1 + 1]\n"
     ]
    },
    {
     "data": {
      "text/plain": [
       "([4, 18, 6, 7, 7, 15, 4, 5, 18, 8],\n",
       " ['Convargence',\n",
       "  'Divargence',\n",
       "  'Convargence',\n",
       "  'Convargence',\n",
       "  'Convargence',\n",
       "  'Convargence',\n",
       "  'Convargence',\n",
       "  'Convargence',\n",
       "  'Divargence',\n",
       "  'Convargence'],\n",
       " [array([3.48744279, 2.26162863]),\n",
       "  array([ 1.45889023, -1.39676701]),\n",
       "  array([3.48744279, 2.26162863]),\n",
       "  array([ 1.45889023, -1.39676701]),\n",
       "  array([3.48744279, 2.26162863]),\n",
       "  array([3.48744279, 2.26162863]),\n",
       "  array([3.48744279, 2.26162863]),\n",
       "  array([3.48744279, 2.26162863])])"
      ]
     },
     "execution_count": 10,
     "metadata": {},
     "output_type": "execute_result"
    }
   ],
   "source": [
    "#test some points and print each step result\n",
    "x_intial=np.array([[3.4,2.2],[1,1],[1,-5],[10,10],[2,-10],[2000,2000],[3.4,2.2],[4,4],[1,1],[20,20]])\n",
    "Tolerance=10**-6\n",
    "Results(Func_Vec,Jacob_Mat,x_intial,Tolerance,'yes')"
   ]
  },
  {
   "cell_type": "code",
   "execution_count": null,
   "metadata": {
    "id": "MBA_jqzYCjQJ"
   },
   "outputs": [],
   "source": []
  },
  {
   "cell_type": "markdown",
   "metadata": {
    "id": "O6WoroZs9pHK"
   },
   "source": [
    "## Example 2\n",
    "\n",
    " ### <center> Solve the following system: \n",
    "\n",
    "\n",
    "<h3><center> $ f_1(x_1,x_2,x_3)=3x_1-cos(x_2x_3)-\\frac{1}{2}=0 \\\\\n",
    " f_2(x_1,x_2,x_3)=x_1^2-81(x_2+0.1)^2+sin(x_3)+1.06=0 \\\\\n",
    " f_3(x_1,x_2,x_3)=e^{-x_1x_2}+20x_3+\\frac{10\\pi-3}{3}=0\n",
    "  $\n",
    " \n",
    "\n",
    "</center></h3>"
   ]
  },
  {
   "cell_type": "markdown",
   "metadata": {
    "id": "nKnx4siQCj9e"
   },
   "source": []
  },
  {
   "cell_type": "code",
   "execution_count": 11,
   "metadata": {
    "colab": {
     "base_uri": "https://localhost:8080/"
    },
    "id": "WJZv2z9gE4yU",
    "outputId": "6ba7fa73-5b51-4baf-93df-45aad7f387df"
   },
   "outputs": [
    {
     "name": "stdout",
     "output_type": "stream",
     "text": [
      "Varibles (x1, x2, x3)\n",
      "System functions [3*x1 - cos(x2*x3) - 0.5, x1**2 - 81*(x2 + 0.1)**2 + sin(x3) + 1.06, 20*x3 - 1 + 10*pi/3 + exp(-x1*x2)]\n"
     ]
    }
   ],
   "source": [
    "\n",
    "Vars = symbols('x1 x2 x3')\n",
    "x1=Vars[0] \n",
    "x2=Vars[1]\n",
    "x3=Vars[2]\n",
    "print(\"Varibles\" ,Vars)\n",
    "f1=3*x1-cos(x2*x3)-0.5\n",
    "f2=x1**2 -81*(x2+0.1)**2+sin(x3)+1.06\n",
    "f3=exp(-x1*x2)+20*x3+(10*pi-3)/3\n",
    "F=[f1,f2,f3]\n",
    "print(\"System functions\",F)"
   ]
  },
  {
   "cell_type": "code",
   "execution_count": 12,
   "metadata": {
    "colab": {
     "base_uri": "https://localhost:8080/"
    },
    "id": "9U-6CKm0E41C",
    "outputId": "fd626374-f320-4676-d7e7-104f213ab706"
   },
   "outputs": [
    {
     "name": "stdout",
     "output_type": "stream",
     "text": [
      "The jacobian =  [[3, x3*sin(x2*x3), x2*sin(x2*x3)], [2*x1, -162*x2 - 16.2, cos(x3)], [-x2*exp(-x1*x2), -x1*exp(-x1*x2), 20]]\n"
     ]
    }
   ],
   "source": [
    "Jacobian=Get_Jacobian(F,Vars)\n",
    "print(\"The jacobian = \",Jacobian)"
   ]
  },
  {
   "cell_type": "markdown",
   "metadata": {
    "id": "y7SakH40E43n"
   },
   "source": [
    "## Jacobian Matrix\n",
    "\n",
    "$\\left[ \\left[ 3, \\  x_{3} \\sin{\\left(x_{2} x_{3} \\right)}, \\  x_{2} \\sin{\\left(x_{2} x_{3} \\right)}\\right], \\  \\left[ 2 x_{1}, \\  - 162 x_{2} - 16.2, \\  \\cos{\\left(x_{3} \\right)}\\right], \\  \\left[ - x_{2} e^{- x_{1} x_{2}}, \\  - x_{1} e^{- x_{1} x_{2}}, \\  20\\right]\\right]$"
   ]
  },
  {
   "cell_type": "code",
   "execution_count": 13,
   "metadata": {
    "id": "zQO4pPDGE46E"
   },
   "outputs": [],
   "source": [
    "Func_Vec = lambdify(Vars, F,'numpy')\n",
    "Jacob_Mat=lambdify(Vars,Jacobian,'numpy')"
   ]
  },
  {
   "cell_type": "code",
   "execution_count": 14,
   "metadata": {
    "id": "P-6bclkfHtru"
   },
   "outputs": [
    {
     "name": "stdout",
     "output_type": "stream",
     "text": [
      "\n",
      "Intial point is [ 0.1  0.1 -0.1]\n",
      "Iteration 1 , the current value [ 0.49986967  0.01946685 -0.52152047] norm_diff 0.42152047193583075\n",
      "Iteration 2 , the current value [ 0.50001424  0.00158859 -0.52355696] norm_diff 0.017878257167124205\n",
      "Iteration 3 , the current value [ 5.00000113e-01  1.24447833e-05 -5.23598450e-01] norm_diff 0.00157614658697234\n",
      "Iteration 4 , the current value [ 5.00000000e-01  7.75785717e-10 -5.23598776e-01] norm_diff 1.244400753582901e-05\n",
      "Iteration 5 , the current value [ 5.00000000e-01  5.67376334e-18 -5.23598776e-01] norm_diff 7.757857115257561e-10\n",
      "Convargence\n",
      "\n",
      "Intial point is [1. 1. 1.]\n",
      "Iteration 1 , the current value [ 0.91968721  0.46082246 -0.50338764] norm_diff 1.5033876354998963\n",
      "Iteration 2 , the current value [ 0.50100049  0.18743348 -0.52086923] norm_diff 0.41868672775966176\n",
      "Iteration 3 , the current value [ 0.50054294  0.06115345 -0.52200096] norm_diff 0.12628002399574226\n",
      "Iteration 4 , the current value [ 0.50010444  0.01161711 -0.52329515] norm_diff 0.049536347929375904\n",
      "Iteration 5 , the current value [ 0.50000551  0.00060562 -0.52358294] norm_diff 0.01101149002610253\n",
      "Iteration 6 , the current value [ 5.00000017e-01  1.82636745e-06 -5.23598728e-01] norm_diff 0.0006037893555016355\n",
      "Iteration 7 , the current value [ 5.00000000e-01  1.67105197e-11 -5.23598776e-01] norm_diff 1.8263507367767822e-06\n",
      "Iteration 8 , the current value [ 5.00000000e-01 -5.03431857e-18 -5.23598776e-01] norm_diff 1.671052471131889e-11\n",
      "Convargence\n",
      "\n",
      "Intial point is [5. 5. 5.]\n",
      "Iteration 1 , the current value [-1.28331655  2.40245129 -0.47359878] norm_diff 6.283316554040013\n",
      "Iteration 2 , the current value [-3.7560999   1.1596267  -6.30749583] norm_diff 5.833897058874262\n",
      "Iteration 3 , the current value [-17.54838121   0.83898409 -61.98906538] norm_diff 55.68156954563709\n",
      "Iteration 4 , the current value [-12.18838217   1.03830116 -91.89266703] norm_diff 29.903601645865812\n",
      "Iteration 5 , the current value [ -10.23132983    1.12358531 -117.46524656] norm_diff 25.572579533389728\n",
      "Iteration 6 , the current value [  -6.33137013    1.46601432 -597.96930083] norm_diff 480.50405427097246\n",
      "Iteration 7 , the current value [  -9.71715328    0.74141087 -739.42791451] norm_diff 141.45861367601583\n",
      "Iteration 8 , the current value [ -14.64292827    1.03574644 -505.79235025] norm_diff 233.6355642532278\n",
      "Iteration 9 , the current value [ -11.96101802    1.15733036 -495.71688017] norm_diff 10.075470083921061\n",
      "Iteration 10 , the current value [ -14.4159429     0.83728471 -672.97447413] norm_diff 177.2575939581174\n",
      "Iteration 11 , the current value [ 19.76450101   2.74690348 783.54572972] norm_diff 1456.5202038508787\n",
      "Iteration 12 , the current value [61.44870872  6.21586204 -0.47359878] norm_diff 784.0193284991235\n",
      "Iteration 13 , the current value [ 0.05203976 -0.62566567 -0.47359878] norm_diff 61.39666896061507\n",
      "Iteration 14 , the current value [ 0.49329471 -0.36981391 -0.53882654] norm_diff 0.4412549493471697\n",
      "Iteration 15 , the current value [ 0.49775735 -0.25325457 -0.5302539 ] norm_diff 0.11655934853680383\n",
      "Iteration 16 , the current value [ 0.49805993 -0.20898416 -0.52907077] norm_diff 0.04427040934290152\n",
      "Iteration 17 , the current value [ 0.49814101 -0.20000868 -0.52883651] norm_diff 0.008975477843601032\n",
      "Iteration 18 , the current value [ 0.49814468 -0.19960671 -0.528826  ] norm_diff 0.0004019741109029529\n",
      "Iteration 19 , the current value [ 0.49814468 -0.1996059  -0.52882598] norm_diff 8.095139330255297e-07\n",
      "Convargence\n"
     ]
    },
    {
     "data": {
      "text/plain": [
       "([5, 8, 19],\n",
       " ['Convargence', 'Convargence', 'Convargence'],\n",
       " [array([ 5.00000000e-01,  5.67376334e-18, -5.23598776e-01]),\n",
       "  array([ 5.00000000e-01, -5.03431857e-18, -5.23598776e-01]),\n",
       "  array([ 0.49814468, -0.1996059 , -0.52882598])])"
      ]
     },
     "execution_count": 14,
     "metadata": {},
     "output_type": "execute_result"
    }
   ],
   "source": [
    "x_intial=np.array([[0.1,0.1,-0.1],[1,1,1],[5,5,5]])\n",
    "Tolerance=10**-6\n",
    "Results(Func_Vec,Jacob_Mat,x_intial,Tolerance,'yes')"
   ]
  },
  {
   "cell_type": "markdown",
   "metadata": {
    "id": "zaqVu8IMHx2d"
   },
   "source": [
    "### Comparing results to textbook results at intial point $(0.1,0.1,-0.1)$\n",
    "\n",
    "our final result=$[ 5.00000000e-01, -1.83046948e-17, -5.23598776e-01]$\n",
    "\n",
    "### Text book table results\n",
    "![image.png](data:image/png;base64,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)"
   ]
  },
  {
   "cell_type": "markdown",
   "metadata": {
    "id": "UpIxzl0TRqcF"
   },
   "source": [
    "## <b> <center> Using Newton's Method for solving unconstrained optimisation</b> </center>"
   ]
  },
  {
   "cell_type": "markdown",
   "metadata": {
    "id": "aNlcn488HqkV"
   },
   "source": [
    " ### <center><b>  Newton method is a second ordered method by using a quadratic approximation of taylor series</b>\n",
    "\n",
    "$f(X+h)=f(X)+ h^T \\nabla f(x) +\\frac{1}{2}h \\nabla^2 f(x) h^T +O(h^3)$ \\\\\n",
    "where $\\nabla^2 f(x)$ is called th Hessian matrix \\\\\n",
    "so the problem is to solve \\\\\n",
    "\n",
    "<center>$Min/Max    \\large f(\\underline{X}) $ </center>\n",
    "if $\\nabla^2 f(X)>0 ∀ x  $ \n",
    "then $f(X)$  a convex function , so only one extreme point is the optimum point\n",
    "\n",
    "Hessian matrix $\\nabla^2 f(X)$ is positive definate </center>\n",
    "   \n",
    "\n",
    "\n"
   ]
  },
  {
   "cell_type": "markdown",
   "metadata": {
    "id": "NF_rLi3uJ2sC"
   },
   "source": [
    "Assume that $f(X)$ is continous and at least twice diffrentiable\n",
    "\n",
    "$ \\nabla f(X^*)=\\underline{0}$ whe $X^*$ is an extreme point(maximum , minimum , or sadle point) \\\\\n",
    "\n",
    "the itertive step equation $x_{n+1}=x_n-t\\nabla^2 f^{-1}(x_n) \\nabla f(x_n)$ \\\\\n",
    "where $t$ is the line search step size,\n",
    "for simplicity take $t=1$\n",
    "\n",
    "So here we solve system of nonlinear equations $\\nabla f(x_i)=0$"
   ]
  },
  {
   "cell_type": "markdown",
   "metadata": {
    "id": "sVKoD3JeNRFv"
   },
   "source": [
    "## Example 3\n",
    "\n",
    " ### <center> Solve the problem: \n",
    "\n",
    "\n",
    "<h3><center> Min $  f(X)=(x_1+5)^2+(x_2+8)^2+(x_3+7)^2+2x_1^2x_2^2+4x_1^2x_3^2 \\\\ X_0=([1 ,1 ,1],[-2.3,0,0],[0,2,-12])$\n",
    " \n",
    "</center></h3>"
   ]
  },
  {
   "cell_type": "code",
   "execution_count": 15,
   "metadata": {
    "colab": {
     "base_uri": "https://localhost:8080/"
    },
    "id": "NH8aSBQbUYyP",
    "outputId": "9f92faa0-c162-4873-dc81-12792ee90706"
   },
   "outputs": [
    {
     "name": "stdout",
     "output_type": "stream",
     "text": [
      "(x1, x2, x3)\n",
      "[4*x1*x2**2 + 8*x1*x3**2 + 2*x1 + 10, 4*x1**2*x2 + 2*x2 + 16, 8*x1**2*x3 + 2*x3 + 14]\n"
     ]
    }
   ],
   "source": [
    "Vars = symbols('x1 x2 x3')\n",
    "x1=Vars[0] \n",
    "x2=Vars[1]\n",
    "x3=Vars[2]\n",
    "print(Vars)\n",
    "f=(x1+5)**2+(x2+8)**2+(x3+7)**2+2*x1**2*x2**2+4*x1**2*x3**2\n",
    "F=[f.diff(x1),f.diff(x2),f.diff(x3)]  \n",
    "print(F)"
   ]
  },
  {
   "cell_type": "code",
   "execution_count": 16,
   "metadata": {
    "colab": {
     "base_uri": "https://localhost:8080/"
    },
    "id": "vnxKyARzVcH3",
    "outputId": "152c476c-6581-4d93-b41d-aff739dbac51"
   },
   "outputs": [
    {
     "name": "stdout",
     "output_type": "stream",
     "text": [
      "Hessian matrix = [[4*x2**2 + 8*x3**2 + 2, 8*x1*x2, 16*x1*x3], [8*x1*x2, 4*x1**2 + 2, 0], [16*x1*x3, 0, 8*x1**2 + 2]]\n"
     ]
    }
   ],
   "source": [
    "Jacobian=Get_Jacobian(F,Vars)\n",
    "print(\"Hessian matrix =\",Jacobian)\n",
    "Grad_Vec = lambdify(Vars, F,'numpy')\n",
    "Hessian_Mat=lambdify(Vars,Jacobian,'numpy')\n",
    "f=lambdify(Vars,f,'numpy')\n"
   ]
  },
  {
   "cell_type": "code",
   "execution_count": 17,
   "metadata": {
    "colab": {
     "base_uri": "https://localhost:8080/"
    },
    "id": "WLr76SgtVoKo",
    "outputId": "ca5397c1-678f-43c7-e2f0-18f051511ed6"
   },
   "outputs": [
    {
     "name": "stdout",
     "output_type": "stream",
     "text": [
      "\\left[ \\left[ 4 x_{2}^{2} + 8 x_{3}^{2} + 2, \\  8 x_{1} x_{2}, \\  16 x_{1} x_{3}\\right], \\  \\left[ 8 x_{1} x_{2}, \\  4 x_{1}^{2} + 2, \\  0\\right], \\  \\left[ 16 x_{1} x_{3}, \\  0, \\  8 x_{1}^{2} + 2\\right]\\right]\n"
     ]
    }
   ],
   "source": [
    "print((printing.latex(Jacobian)))"
   ]
  },
  {
   "cell_type": "markdown",
   "metadata": {
    "id": "XmIFDUnYV2Xk"
   },
   "source": [
    "$\\left[ \\left[ 4 x_{2}^{2} + 8 x_{3}^{2} + 2, \\  8 x_{1} x_{2}, \\  16 x_{1} x_{3}\\right], \\  \\left[ 8 x_{1} x_{2}, \\  4 x_{1}^{2} + 2, \\  0\\right], \\  \\left[ 16 x_{1} x_{3}, \\  0, \\  8 x_{1}^{2} + 2\\right]\\right]\n",
    "$"
   ]
  },
  {
   "cell_type": "code",
   "execution_count": 18,
   "metadata": {
    "colab": {
     "base_uri": "https://localhost:8080/"
    },
    "id": "FvmzwOAZYaiy",
    "outputId": "982e1ee3-2d3c-4e32-d837-30ff3abbae6f"
   },
   "outputs": [
    {
     "name": "stdout",
     "output_type": "stream",
     "text": [
      "\n",
      "Intial point is [1. 1. 1.]\n",
      "Iteration 1 , the current value [-0.96407186 -0.04790419  1.74251497] norm_diff 1.9640718562874249\n",
      "Iteration 2 , the current value [ 0.43468778 -2.88869335  2.50084213] norm_diff 2.840789160234061\n",
      "Iteration 3 , the current value [-0.53995405 -9.35865226  0.84072238] norm_diff 6.469958905946299\n",
      "Iteration 4 , the current value [-0.42064739 -6.57667661 -3.03144681] norm_diff 3.872169188607735\n",
      "Iteration 5 , the current value [-2.29281978  9.39307372  7.08447768] norm_diff 15.969750330059085\n",
      "Iteration 6 , the current value [-1.35492455  6.32239947  5.21502717] norm_diff 3.0706742477176032\n",
      "Iteration 7 , the current value [-0.53288883  4.31699738  4.73049166] norm_diff 2.005402092595598\n",
      "Iteration 8 , the current value [ 1.05393065  4.21047983 11.7051262 ] norm_diff 6.974634540852902\n",
      "Iteration 9 , the current value [0.45525354 0.81533916 9.56887055] norm_diff 3.3951406700183346\n",
      "Iteration 10 , the current value [-0.56715472 -4.58249016 15.65372616] norm_diff 6.084855613695396\n",
      "Iteration 11 , the current value [ 0.0342583  -8.67278819 15.61893726] norm_diff 4.090298022341468\n",
      "Iteration 12 , the current value [ 0.08291137 -7.92357905 -7.17458434] norm_diff 22.79352160187005\n",
      "Iteration 13 , the current value [-0.01839714 -8.15411289 -7.28187952] norm_diff 0.23053383817641215\n",
      "Iteration 14 , the current value [-0.01561412 -7.99625721 -6.99351468] norm_diff 0.2883648396683336\n",
      "Iteration 15 , the current value [-0.015408   -7.99620398 -6.99336012] norm_diff 0.0002061216676140544\n",
      "Iteration 16 , the current value [-0.015408   -7.9962033  -6.99335893] norm_diff 1.1892743163599562e-06\n",
      "Iteration 17 , the current value [-0.015408   -7.9962033  -6.99335893] norm_diff 9.645062526431047e-16\n",
      "Convargence\n",
      "\n",
      "Intial point is [-2.3  0.   0. ]\n",
      "Iteration 1 , the current value [-5.         -0.69084629 -0.31588448] norm_diff 2.7\n",
      "Iteration 2 , the current value [-3.74584312 -0.49663907 -0.22620542] norm_diff 1.2541568847582538\n",
      "Iteration 3 , the current value [-2.76761477 -0.5257367  -0.23861657] norm_diff 0.9782283470037245\n",
      "Iteration 4 , the current value [-2.4528155  -0.60248466 -0.27381423] norm_diff 0.31479926336009756\n",
      "Iteration 5 , the current value [-2.48910049 -0.59738731 -0.27149351] norm_diff 0.03628498149392989\n",
      "Iteration 6 , the current value [-2.48893452 -0.59747908 -0.27153695] norm_diff 0.00016597029517351203\n",
      "Iteration 7 , the current value [-2.48893456 -0.59747906 -0.27153694] norm_diff 4.8209499947660106e-08\n",
      "Convargence\n",
      "\n",
      "Intial point is [  0.   2. -12.]\n",
      "Iteration 1 , the current value [-0.00854701 -8.         -7.        ] norm_diff 10.0\n",
      "Iteration 2 , the current value [-0.01539501 -7.99695866 -6.99467844] norm_diff 0.00684800342107081\n",
      "Iteration 3 , the current value [-0.01540799 -7.9962033  -6.99335893] norm_diff 0.001319506487437394\n",
      "Iteration 4 , the current value [-0.015408   -7.9962033  -6.99335893] norm_diff 5.664779756386906e-09\n",
      "Convargence\n",
      "\n",
      "Intial point is [-5. -5. -5.]\n",
      "Iteration 1 , the current value [-3.36675837 -3.35929732 -3.30344877] norm_diff 1.6965512263670566\n",
      "Iteration 2 , the current value [-2.3363932  -2.3072749  -2.12940296] norm_diff 1.1740458094526387\n",
      "Iteration 3 , the current value [-1.78628758 -1.66661436 -1.26537458] norm_diff 0.8640283881940727\n",
      "Iteration 4 , the current value [-1.70380988 -1.21682359 -0.61696061] norm_diff 0.6484139686565062\n",
      "Iteration 5 , the current value [-2.04399836 -0.76092925 -0.32819835] norm_diff 0.4558943313908044\n",
      "Iteration 6 , the current value [-2.43372601 -0.59592252 -0.27713013] norm_diff 0.3897276557194136\n",
      "Iteration 7 , the current value [-2.48982627 -0.59742502 -0.27123268] norm_diff 0.05610026079996855\n",
      "Iteration 8 , the current value [-2.48893401 -0.59747934 -0.27153688] norm_diff 0.0008922592333369117\n",
      "Iteration 9 , the current value [-2.48893456 -0.59747906 -0.27153694] norm_diff 5.51911399693239e-07\n",
      "Convargence\n"
     ]
    }
   ],
   "source": [
    "x_intial=np.array([[1,1,1],[-2.3,0,0],[0,2,-12],[-5,-5,-5]])\n",
    "Tolerance=10**-6\n",
    "a,b,c=Results(Grad_Vec,Hessian_Mat,x_intial,Tolerance,'yes')"
   ]
  },
  {
   "cell_type": "code",
   "execution_count": 19,
   "metadata": {
    "id": "HVI8ph2PcWK7"
   },
   "outputs": [],
   "source": [
    "#checking the gradient objective function be zero\n",
    "\n",
    "# x_min=c[0]\n",
    "# f_min=F(*x_min)\n",
    "# print(f_min)\n",
    "# for i in range(len(c)):\n",
    "#   Obj=F(*c[i])\n",
    "#   print(\"\\n\")\n",
    "#   print(\"start value \",x_intial[i])\n",
    "#   print(\"extreme point is\",c[i])\n",
    "#   print(\"the gradient at extreme point is\",Obj)\n",
    "#   print(\"the value of objective at tha points=\",F(*c[i]))\n",
    "#   if Obj < f_min:\n",
    "#     f_min=Obj\n",
    "#     x_min=c[i]\n",
    "# print(\"\\n\")\n",
    "# print(\"The minimum value of f is {} ,X* is{} \".format(f_min,x_min))\n",
    "    \n"
   ]
  },
  {
   "cell_type": "code",
   "execution_count": 20,
   "metadata": {
    "colab": {
     "base_uri": "https://localhost:8080/"
    },
    "id": "J8qpTDLMn3n_",
    "outputId": "401c6f96-059c-4e00-f5b5-0ab61856ab7f"
   },
   "outputs": [
    {
     "name": "stdout",
     "output_type": "stream",
     "text": [
      "\n",
      "\n",
      "extreme point is [-0.015408   -7.9962033  -6.99335893]\n",
      "the gradient at extreme point is [0.0, 0.0, 0.0]\n",
      "the value of objective at tha points= 24.923018533267275\n",
      "\n",
      "\n",
      "extreme point is [-2.48893456 -0.59747906 -0.27153694]\n",
      "the gradient at extreme point is [3.552713678800501e-15, 1.0658141036401503e-14, 7.105427357601002e-15]\n",
      "the value of objective at tha points= 112.62485852492722\n",
      "\n",
      "\n",
      "extreme point is [-0.015408   -7.9962033  -6.99335893]\n",
      "the gradient at extreme point is [3.552713678800501e-15, 0.0, 0.0]\n",
      "the value of objective at tha points= 24.923018533267275\n",
      "\n",
      "\n",
      "extreme point is [-2.48893456 -0.59747906 -0.27153694]\n",
      "the gradient at extreme point is [-2.5934809855243657e-13, 2.348343741687131e-12, -1.9877433032888803e-12]\n",
      "the value of objective at tha points= 112.62485852492723\n",
      "\n",
      "\n",
      "The minimum value of f is 24.923018533267275 ,X* is[-0.015408   -7.9962033  -6.99335893] \n"
     ]
    }
   ],
   "source": [
    "# find min of function from results\n",
    "[x_min,f_min]=Min_func(f,Grad_Vec,c)\n",
    "print(\"The minimum value of f is {} ,X* is{} \".format(f_min,x_min))"
   ]
  },
  {
   "cell_type": "markdown",
   "metadata": {
    "id": "fXoZBKPf3f9p"
   },
   "source": [
    "This point may or not to ba a global minimization, so we can intialize by random vectors to get closer to global minima"
   ]
  },
  {
   "cell_type": "code",
   "execution_count": 21,
   "metadata": {
    "colab": {
     "base_uri": "https://localhost:8080/"
    },
    "id": "ho9HkmSF3itX",
    "outputId": "880737f4-bc08-4940-a292-b2d9552332d2"
   },
   "outputs": [
    {
     "name": "stdout",
     "output_type": "stream",
     "text": [
      "[[0.56901815 0.68951555 0.6594913 ]\n",
      " [0.03865782 0.40828265 0.01520586]\n",
      " [0.14162938 0.93654467 0.20971532]\n",
      " [0.14391858 0.44240127 0.6601634 ]\n",
      " [0.8055707  0.45631209 0.93963355]]\n",
      "\n",
      "Intial point is [0.56901815 0.68951555 0.6594913 ]\n",
      "Convargence\n",
      "\n",
      "Intial point is [0.03865782 0.40828265 0.01520586]\n",
      "Convargence\n",
      "\n",
      "Intial point is [0.14162938 0.93654467 0.20971532]\n",
      "Convargence\n",
      "\n",
      "Intial point is [0.14391858 0.44240127 0.6601634 ]\n",
      "Convargence\n",
      "\n",
      "Intial point is [0.8055707  0.45631209 0.93963355]\n",
      "Convargence\n"
     ]
    }
   ],
   "source": [
    "# generate random intial vectors \n",
    "x_intial=np.random.rand(5,3)\n",
    "print(x_intial)\n",
    "Tolerance=10**-6\n",
    "a,b,c=Results(Grad_Vec,Hessian_Mat,x_intial,Tolerance,'no')"
   ]
  },
  {
   "cell_type": "code",
   "execution_count": 22,
   "metadata": {
    "colab": {
     "base_uri": "https://localhost:8080/"
    },
    "id": "tnXAtgpU3sTl",
    "outputId": "4292c86c-8cd0-4549-a7cd-228f7538953a"
   },
   "outputs": [
    {
     "name": "stdout",
     "output_type": "stream",
     "text": [
      "\n",
      "\n",
      "extreme point is [-2.48893456 -0.59747906 -0.27153694]\n",
      "the gradient at extreme point is [0.0, 0.0, 1.7763568394002505e-15]\n",
      "the value of objective at tha points= 112.62485852492719\n",
      "\n",
      "\n",
      "extreme point is [-2.48893456 -0.59747906 -0.27153694]\n",
      "the gradient at extreme point is [0.0, 0.0, 1.7763568394002505e-15]\n",
      "the value of objective at tha points= 112.62485852492722\n",
      "\n",
      "\n",
      "extreme point is [-2.48893456 -0.59747906 -0.27153694]\n",
      "the gradient at extreme point is [0.0, 0.0, 1.7763568394002505e-15]\n",
      "the value of objective at tha points= 112.62485852492719\n",
      "\n",
      "\n",
      "extreme point is [-2.48893456 -0.59747906 -0.27153694]\n",
      "the gradient at extreme point is [-1.0103917702508625e-11, -3.147704319417244e-12, 3.057820663343591e-11]\n",
      "the value of objective at tha points= 112.62485852492722\n",
      "\n",
      "\n",
      "extreme point is [-2.48893456 -0.59747906 -0.27153694]\n",
      "the gradient at extreme point is [0.0, 7.034373084024992e-13, -5.666578317686799e-13]\n",
      "the value of objective at tha points= 112.62485852492722\n",
      "\n",
      "\n",
      "The minimum value of f is 112.62485852492719 ,X* is[-2.48893456 -0.59747906 -0.27153694] \n"
     ]
    }
   ],
   "source": [
    "# find min of function from results\n",
    "[x_min,f_min]=Min_func(f,Grad_Vec,c)\n",
    "print(\"The minimum value of f is {} ,X* is{} \".format(f_min,x_min))"
   ]
  },
  {
   "cell_type": "markdown",
   "metadata": {
    "id": "8767ZX09ewcm"
   },
   "source": [
    "## Example 4\n",
    "\n",
    " ### <center> Solve the problem: \n",
    "\n",
    "\n",
    "<h3><center> Min $  f(X)=(x_1+10x_2)^2+5(x_3-x_4)^2+(x_2-2x_3)^4+100(x_1-x_4)^4\\\\\n",
    " X_0=([-2 ,-1 ,1,2],[200,-200,100,-100])$\n",
    " \n",
    "</center></h3>"
   ]
  },
  {
   "cell_type": "code",
   "execution_count": 23,
   "metadata": {
    "colab": {
     "base_uri": "https://localhost:8080/"
    },
    "id": "85nkT_iOewfC",
    "outputId": "beba07e9-a736-45bc-9f6b-5cfbf19d23bb"
   },
   "outputs": [
    {
     "name": "stdout",
     "output_type": "stream",
     "text": [
      "(x1, x2, x3, x4)\n",
      "[2*x1 + 20*x2 + 400*(x1 - x4)**3, 20*x1 + 200*x2 + 4*(x2 - 2*x3)**3, 10*x3 - 10*x4 - 8*(x2 - 2*x3)**3, -10*x3 + 10*x4 - 400*(x1 - x4)**3]\n"
     ]
    }
   ],
   "source": [
    "Vars = symbols('x1 x2 x3 x4')\n",
    "x1=Vars[0] \n",
    "x2=Vars[1]\n",
    "x3=Vars[2]\n",
    "x4=Vars[3]\n",
    "print(Vars)\n",
    "f=(x1+10*x2)**2+5*(x3-x4)**2+(x2-2*x3)**4+100*(x1-x4)**4\n",
    "F=[f.diff(x1),f.diff(x2),f.diff(x3),f.diff(x4)]  \n",
    "print(F)"
   ]
  },
  {
   "cell_type": "code",
   "execution_count": 24,
   "metadata": {
    "colab": {
     "base_uri": "https://localhost:8080/"
    },
    "id": "TEsFpKqTqT3z",
    "outputId": "e5fcfa42-1212-42eb-aec7-031906c97db0"
   },
   "outputs": [
    {
     "name": "stdout",
     "output_type": "stream",
     "text": [
      "Hessian matrix = [[1200*(x1 - x4)**2 + 2, 20, 0, -1200*(x1 - x4)**2], [20, 12*(x2 - 2*x3)**2 + 200, -24*(x2 - 2*x3)**2, 0], [0, -24*(x2 - 2*x3)**2, 48*(x2 - 2*x3)**2 + 10, -10], [-1200*(x1 - x4)**2, 0, -10, 1200*(x1 - x4)**2 + 10]]\n"
     ]
    }
   ],
   "source": [
    "Jacobian=Get_Jacobian(F,Vars)\n",
    "print(\"Hessian matrix =\",Jacobian)\n",
    "Grad_Vec = lambdify(Vars, F,'numpy')\n",
    "Hessian_Mat=lambdify(Vars,Jacobian,'numpy')\n",
    "f=lambdify(Vars,f,'numpy')"
   ]
  },
  {
   "cell_type": "code",
   "execution_count": 25,
   "metadata": {
    "colab": {
     "base_uri": "https://localhost:8080/"
    },
    "id": "nzkl6xs9tQNj",
    "outputId": "1084259d-fd96-4894-bcbb-fd4c3cea7a92"
   },
   "outputs": [
    {
     "name": "stdout",
     "output_type": "stream",
     "text": [
      "\n",
      "Intial point is [-2 -1  1  2]\n",
      "Iteration 1 , the current value [-1.58730159  0.15873016  1.07936508  1.07936508] norm_diff 1.1587301587301226\n",
      "Iteration 2 , the current value [-1.05820106  0.10582011  0.71957672  0.71957672] norm_diff 0.529100529100333\n",
      "Iteration 3 , the current value [-0.70546737  0.07054674  0.47971781  0.47971781] norm_diff 0.3527336860668129\n",
      "Iteration 4 , the current value [-0.47031158  0.04703116  0.31981188  0.31981188] norm_diff 0.23515579071143122\n",
      "Iteration 5 , the current value [-0.31354105  0.03135411  0.21320792  0.21320792] norm_diff 0.1567705271408819\n",
      "Iteration 6 , the current value [-0.20902737  0.02090274  0.14213861  0.14213861] norm_diff 0.10451368476058498\n",
      "Iteration 7 , the current value [-0.13935158  0.01393516  0.09475907  0.09475907] norm_diff 0.06967578984039324\n",
      "Iteration 8 , the current value [-0.09290105  0.00929011  0.06317272  0.06317272] norm_diff 0.046450526560263494\n",
      "Iteration 9 , the current value [-0.06193404  0.0061934   0.04211514  0.04211514] norm_diff 0.030967017706841737\n",
      "Iteration 10 , the current value [-0.04128936  0.00412894  0.02807676  0.02807676] norm_diff 0.020644678471227973\n",
      "Iteration 11 , the current value [-0.02752624  0.00275262  0.01871784  0.01871784] norm_diff 0.013763118980818834\n",
      "Iteration 12 , the current value [-0.01835083  0.00183508  0.01247856  0.01247856] norm_diff 0.009175412653879\n",
      "Iteration 13 , the current value [-0.01223388  0.00122339  0.00831904  0.00831904] norm_diff 0.006116941769252537\n",
      "Iteration 14 , the current value [-0.00815592  0.00081559  0.00554603  0.00554603] norm_diff 0.004077961179501766\n",
      "Iteration 15 , the current value [-0.00543728  0.00054373  0.00369735  0.00369735] norm_diff 0.0027186407863351025\n",
      "Iteration 16 , the current value [-0.00362485  0.00036249  0.0024649   0.0024649 ] norm_diff 0.0018124271908882966\n",
      "Iteration 17 , the current value [-0.00241657  0.00024166  0.00164327  0.00164327] norm_diff 0.0012082847939262203\n",
      "Iteration 18 , the current value [-0.00161105  0.0001611   0.00109551  0.00109551] norm_diff 0.0008055231959524373\n",
      "Iteration 19 , the current value [-0.00107403  0.0001074   0.00073034  0.00073034] norm_diff 0.0005370154639636748\n",
      "Iteration 20 , the current value [-7.16020619e-04  7.16020619e-05  4.86894021e-04  4.86894021e-04] norm_diff 0.0003580103093067562\n",
      "Iteration 21 , the current value [-4.77347079e-04  4.77347079e-05  3.24596014e-04  3.24596014e-04] norm_diff 0.00023867353954192677\n",
      "Iteration 22 , the current value [-3.18231386e-04  3.18231386e-05  2.16397343e-04  2.16397343e-04] norm_diff 0.00015911569303650626\n",
      "Iteration 23 , the current value [-2.12154257e-04  2.12154257e-05  1.44264895e-04  1.44264895e-04] norm_diff 0.00010607712870866742\n",
      "Iteration 24 , the current value [-1.41436172e-04  1.41436172e-05  9.61765967e-05  9.61765967e-05] norm_diff 7.07180857607917e-05\n",
      "Iteration 25 , the current value [-9.42907811e-05  9.42907811e-06  6.41177311e-05  6.41177311e-05] norm_diff 4.714539049358035e-05\n",
      "Iteration 26 , the current value [-6.28605207e-05  6.28605207e-06  4.27451541e-05  4.27451541e-05] norm_diff 3.1430260428308085e-05\n",
      "Iteration 27 , the current value [-4.19070138e-05  4.19070138e-06  2.84967694e-05  2.84967694e-05] norm_diff 2.095350690944713e-05\n",
      "Iteration 28 , the current value [-2.79380091e-05  2.79380091e-06  1.89978464e-05  1.89978464e-05] norm_diff 1.3969004682396684e-05\n",
      "Iteration 29 , the current value [-1.86253392e-05  1.86253392e-06  1.26652311e-05  1.26652311e-05] norm_diff 9.312669876830257e-06\n",
      "Iteration 30 , the current value [-1.24168927e-05  1.24168927e-06  8.44348751e-06  8.44348751e-06] norm_diff 6.208446492870514e-06\n",
      "Iteration 31 , the current value [-8.27792811e-06  8.27792811e-07  5.62899203e-06  5.62899203e-06] norm_diff 4.138964590137955e-06\n",
      "Iteration 32 , the current value [-5.51861875e-06  5.51861875e-07  3.75266135e-06  3.75266135e-06] norm_diff 2.7593093599188043e-06\n",
      "Iteration 33 , the current value [-3.67907898e-06  3.67907898e-07  2.50177443e-06  2.50177443e-06] norm_diff 1.8395397721970527e-06\n",
      "Iteration 34 , the current value [-2.45271874e-06  2.45271874e-07  1.66785020e-06  1.66785020e-06] norm_diff 1.2263602349797225e-06\n",
      "Iteration 35 , the current value [-1.63514915e-06  1.63514915e-07  1.11189681e-06  1.11189681e-06] norm_diff 8.175695896436215e-07\n",
      "Convargence\n",
      "\n",
      "Intial point is [ 200 -200  100 -100]\n",
      "Iteration 1 , the current value [431.08379069 -43.10837908 111.7791438  111.7791436 ] norm_diff 231.0837906897068\n",
      "Iteration 2 , the current value [287.38919392 -28.73891942  74.51942918  74.51942948] norm_diff 143.69459676742554\n",
      "Iteration 3 , the current value [191.5927957  -19.15927958  49.67961947  49.6796194 ] norm_diff 95.79639822244644\n",
      "Iteration 4 , the current value [127.72853056 -12.77285306  33.11974631  33.11974634] norm_diff 63.86426514387131\n",
      "Iteration 5 , the current value [85.15235369 -8.51523537 22.07983088 22.07983088] norm_diff 42.57617687061429\n",
      "Iteration 6 , the current value [56.76823579 -5.67682358 14.71988725 14.71988725] norm_diff 28.384117897599936\n",
      "Iteration 7 , the current value [37.84549053 -3.78454905  9.81325817  9.81325817] norm_diff 18.922745260875672\n",
      "Iteration 8 , the current value [25.23032702 -2.5230327   6.54217211  6.54217211] norm_diff 12.615163509035483\n",
      "Iteration 9 , the current value [16.82021801 -1.6820218   4.36144807  4.36144807] norm_diff 8.410109005955746\n",
      "Iteration 10 , the current value [11.21347867 -1.12134787  2.90763205  2.90763205] norm_diff 5.60673933729413\n",
      "Iteration 11 , the current value [ 7.47565245 -0.74756524  1.93842137  1.93842137] norm_diff 3.7378262248785177\n",
      "Iteration 12 , the current value [ 4.9837683  -0.49837683  1.29228091  1.29228091] norm_diff 2.491884149901125\n",
      "Iteration 13 , the current value [ 3.3225122  -0.33225122  0.86152061  0.86152061] norm_diff 1.661256099936054\n",
      "Iteration 14 , the current value [ 2.21500813 -0.22150081  0.57434707  0.57434707] norm_diff 1.1075040666245286\n",
      "Iteration 15 , the current value [ 1.47667209 -0.14766721  0.38289805  0.38289805] norm_diff 0.738336044415945\n",
      "Iteration 16 , the current value [ 0.98444806 -0.09844481  0.25526537  0.25526537] norm_diff 0.492224029610675\n",
      "Iteration 17 , the current value [ 0.65629871 -0.06562987  0.17017691  0.17017691] norm_diff 0.32814935307381177\n",
      "Iteration 18 , the current value [ 0.43753247 -0.04375325  0.11345127  0.11345127] norm_diff 0.21876623538253526\n",
      "Iteration 19 , the current value [ 0.29168831 -0.02916883  0.07563418  0.07563418] norm_diff 0.14584415692169106\n",
      "Iteration 20 , the current value [ 0.19445888 -0.01944589  0.05042279  0.05042279] norm_diff 0.09722943794779182\n",
      "Iteration 21 , the current value [ 0.12963925 -0.01296393  0.03361519  0.03361519] norm_diff 0.06481962529852758\n",
      "Iteration 22 , the current value [ 0.08642617 -0.00864262  0.02241013  0.02241013] norm_diff 0.043213083532352314\n",
      "Iteration 23 , the current value [ 0.05761744 -0.00576174  0.01494009  0.01494009] norm_diff 0.028808722354901173\n",
      "Iteration 24 , the current value [ 0.03841163 -0.00384116  0.00996006  0.00996006] norm_diff 0.01920581490326767\n",
      "Iteration 25 , the current value [ 0.02560775 -0.00256078  0.00664004  0.00664004] norm_diff 0.012803876602178244\n",
      "Iteration 26 , the current value [ 0.01707184 -0.00170718  0.00442669  0.00442669] norm_diff 0.00853591773478618\n",
      "Iteration 27 , the current value [ 0.01138122 -0.00113812  0.00295113  0.00295113] norm_diff 0.0056906118231891956\n",
      "Iteration 28 , the current value [ 0.00758748 -0.00075875  0.00196742  0.00196742] norm_diff 0.0037937412154605554\n",
      "Iteration 29 , the current value [ 0.00505832 -0.00050583  0.00131161  0.00131161] norm_diff 0.002529160810307407\n",
      "Iteration 30 , the current value [ 0.00337221 -0.00033722  0.00087441  0.00087441] norm_diff 0.001686107206869153\n",
      "Iteration 31 , the current value [ 0.00224814 -0.00022481  0.00058294  0.00058294] norm_diff 0.0011240714712441244\n",
      "Iteration 32 , the current value [ 0.00149876 -0.00014988  0.00038863  0.00038863] norm_diff 0.0007493809808344666\n",
      "Iteration 33 , the current value [ 9.99174641e-04 -9.99174641e-05  2.59083938e-04  2.59083938e-04] norm_diff 0.0004995873205582337\n",
      "Iteration 34 , the current value [ 6.66116427e-04 -6.66116427e-05  1.72722625e-04  1.72722625e-04] norm_diff 0.00033305821370385215\n",
      "Iteration 35 , the current value [ 4.44077618e-04 -4.44077618e-05  1.15148417e-04  1.15148417e-04] norm_diff 0.0002220388091345787\n",
      "Iteration 36 , the current value [ 2.96051746e-04 -2.96051746e-05  7.67656112e-05  7.67656112e-05] norm_diff 0.00014802587272735738\n",
      "Iteration 37 , the current value [ 1.97367830e-04 -1.97367830e-05  5.11770741e-05  5.11770741e-05] norm_diff 9.868391521784424e-05\n",
      "Iteration 38 , the current value [ 1.31578554e-04 -1.31578554e-05  3.41180494e-05  3.41180494e-05] norm_diff 6.578927675913505e-05\n",
      "Iteration 39 , the current value [ 8.77190357e-05 -8.77190357e-06  2.27453662e-05  2.27453662e-05] norm_diff 4.3859517888328184e-05\n",
      "Iteration 40 , the current value [ 5.84793572e-05 -5.84793572e-06  1.51635776e-05  1.51635776e-05] norm_diff 2.923967849647951e-05\n",
      "Iteration 41 , the current value [ 3.89862379e-05 -3.89862379e-06  1.01090515e-05  1.01090515e-05] norm_diff 1.9493119263132123e-05\n",
      "Iteration 42 , the current value [ 2.59908252e-05 -2.59908252e-06  6.73936764e-06  6.73936764e-06] norm_diff 1.2995412675772644e-05\n",
      "Iteration 43 , the current value [ 1.73272169e-05 -1.73272169e-06  4.49291179e-06  4.49291179e-06] norm_diff 8.663608384493698e-06\n",
      "Iteration 44 , the current value [ 1.15514782e-05 -1.15514782e-06  2.99527476e-06  2.99527476e-06] norm_diff 5.775738705929886e-06\n",
      "Iteration 45 , the current value [ 7.70098712e-06 -7.70098712e-07  1.99685152e-06  1.99685152e-06] norm_diff 3.850491025900684e-06\n",
      "Iteration 46 , the current value [ 5.13399148e-06 -5.13399148e-07  1.33123439e-06  1.33123439e-06] norm_diff 2.566995646869708e-06\n",
      "Iteration 47 , the current value [ 3.42265927e-06 -3.42265927e-07  8.87487932e-07  8.87487932e-07] norm_diff 1.7113322061243827e-06\n",
      "Iteration 48 , the current value [ 2.28177124e-06 -2.28177124e-07  5.91657097e-07  5.91657097e-07] norm_diff 1.140888029090237e-06\n",
      "Iteration 49 , the current value [ 1.52117757e-06 -1.52117757e-07  3.94434871e-07  3.94434871e-07] norm_diff 7.605936738559041e-07\n",
      "Convargence\n",
      "\n",
      "Intial point is [ 100 -100  100 -100]\n",
      "Iteration 1 , the current value [307.43982732 -30.74398273  84.62800863  84.62800866] norm_diff 207.4398273229599\n",
      "Iteration 2 , the current value [204.95988482 -20.49598849  56.41867242  56.41867244] norm_diff 102.47994250059128\n",
      "Iteration 3 , the current value [136.63992321 -13.66399232  37.61244828  37.61244829] norm_diff 68.31996160745621\n",
      "Iteration 4 , the current value [91.09328213 -9.10932821 25.07496552 25.07496552] norm_diff 45.54664108157158\n",
      "Iteration 5 , the current value [60.72885475 -6.07288548 16.71664368 16.71664368] norm_diff 30.36442737840116\n",
      "Iteration 6 , the current value [40.48590317 -4.04859032 11.14442912 11.14442912] norm_diff 20.242951583582908\n",
      "Iteration 7 , the current value [26.99060211 -2.69906021  7.42961941  7.42961941] norm_diff 13.495301057235338\n",
      "Iteration 8 , the current value [17.99373474 -1.79937347  4.95307961  4.95307961] norm_diff 8.996867371257395\n",
      "Iteration 9 , the current value [11.99582316 -1.19958232  3.30205307  3.30205307] norm_diff 5.997911580983782\n",
      "Iteration 10 , the current value [ 7.99721544 -0.79972154  2.20136872  2.20136872] norm_diff 3.998607720630389\n",
      "Iteration 11 , the current value [ 5.33147696 -0.5331477   1.46757914  1.46757914] norm_diff 2.665738480417531\n",
      "Iteration 12 , the current value [ 3.55431797 -0.3554318   0.9783861   0.9783861 ] norm_diff 1.7771589869439595\n",
      "Iteration 13 , the current value [ 2.36954532 -0.23695453  0.6522574   0.6522574 ] norm_diff 1.1847726579629807\n",
      "Iteration 14 , the current value [ 1.57969688 -0.15796969  0.43483826  0.43483826] norm_diff 0.7898484386419682\n",
      "Iteration 15 , the current value [ 1.05313125 -0.10531313  0.28989218  0.28989218] norm_diff 0.5265656257611653\n",
      "Iteration 16 , the current value [ 0.7020875  -0.07020875  0.19326145  0.19326145] norm_diff 0.3510437505074293\n",
      "Iteration 17 , the current value [ 0.46805833 -0.04680583  0.12884097  0.12884097] norm_diff 0.23402916700494103\n",
      "Iteration 18 , the current value [ 0.31203889 -0.03120389  0.08589398  0.08589398] norm_diff 0.15601944466996365\n",
      "Iteration 19 , the current value [ 0.20802593 -0.02080259  0.05726265  0.05726265] norm_diff 0.10401296311330865\n",
      "Iteration 20 , the current value [ 0.13868395 -0.0138684   0.0381751   0.0381751 ] norm_diff 0.06934197540887221\n",
      "Iteration 21 , the current value [ 0.09245597 -0.0092456   0.02545007  0.02545007] norm_diff 0.04622798360591551\n",
      "Iteration 22 , the current value [ 0.06163731 -0.00616373  0.01696671  0.01696671] norm_diff 0.030818655737276046\n",
      "Iteration 23 , the current value [ 0.04109154 -0.00410915  0.01131114  0.01131114] norm_diff 0.02054577049151768\n",
      "Iteration 24 , the current value [ 0.02739436 -0.00273944  0.00754076  0.00754076] norm_diff 0.013697180327678249\n",
      "Iteration 25 , the current value [ 0.01826291 -0.00182629  0.00502717  0.00502717] norm_diff 0.00913145355178635\n",
      "Iteration 26 , the current value [ 0.01217527 -0.00121753  0.00335145  0.00335145] norm_diff 0.006087635701190766\n",
      "Iteration 27 , the current value [ 0.00811685 -0.00081168  0.0022343   0.0022343 ] norm_diff 0.004058423800793243\n",
      "Iteration 28 , the current value [ 0.00541123 -0.00054112  0.00148953  0.00148953] norm_diff 0.002705615867197364\n",
      "Iteration 29 , the current value [ 0.00360749 -0.00036075  0.00099302  0.00099302] norm_diff 0.0018037439114631723\n",
      "Iteration 30 , the current value [ 0.00240499 -0.0002405   0.00066201  0.00066201] norm_diff 0.001202495940978019\n",
      "Iteration 31 , the current value [ 0.00160333 -0.00016033  0.00044134  0.00044134] norm_diff 0.0008016639606413453\n",
      "Iteration 32 , the current value [ 0.00106889 -0.00010689  0.00029423  0.00029423] norm_diff 0.0005344426404284668\n",
      "Iteration 33 , the current value [ 7.12590187e-04 -7.12590187e-05  1.96152493e-04  1.96152493e-04] norm_diff 0.00035629509361741543\n",
      "Iteration 34 , the current value [ 4.75060125e-04 -4.75060125e-05  1.30768329e-04  1.30768329e-04] norm_diff 0.0002375300624044771\n",
      "Iteration 35 , the current value [ 3.16706750e-04 -3.16706750e-05  8.71788857e-05  8.71788857e-05] norm_diff 0.00015835337496762723\n",
      "Iteration 36 , the current value [ 2.11137833e-04 -2.11137833e-05  5.81192571e-05  5.81192571e-05] norm_diff 0.00010556891665360448\n",
      "Iteration 37 , the current value [ 1.40758556e-04 -1.40758556e-05  3.87461715e-05  3.87461715e-05] norm_diff 7.03792776900504e-05\n",
      "Iteration 38 , the current value [ 9.38390371e-05 -9.38390371e-06  2.58307810e-05  2.58307810e-05] norm_diff 4.6919518445205145e-05\n",
      "Iteration 39 , the current value [ 6.25593580e-05 -6.25593580e-06  1.72205206e-05  1.72205206e-05] norm_diff 3.127967909545733e-05\n",
      "Iteration 40 , the current value [ 4.17062387e-05 -4.17062387e-06  1.14803471e-05  1.14803471e-05] norm_diff 2.0853119310085776e-05\n",
      "Iteration 41 , the current value [ 2.78041592e-05 -2.78041592e-06  7.65356478e-06  7.65356478e-06] norm_diff 1.390207951933143e-05\n",
      "Iteration 42 , the current value [ 1.85361062e-05 -1.85361062e-06  5.10237663e-06  5.10237663e-06] norm_diff 9.268052953738176e-06\n",
      "Iteration 43 , the current value [ 1.23574039e-05 -1.23574039e-06  3.40158417e-06  3.40158417e-06] norm_diff 6.178702315907085e-06\n",
      "Iteration 44 , the current value [ 8.23826906e-06 -8.23826906e-07  2.26772255e-06  2.26772255e-06] norm_diff 4.1191348448183955e-06\n",
      "Iteration 45 , the current value [ 5.49217986e-06 -5.49217986e-07  1.51181547e-06  1.51181547e-06] norm_diff 2.7460892011885334e-06\n",
      "Iteration 46 , the current value [ 3.66145202e-06 -3.66145202e-07  1.00787569e-06  1.00787569e-06] norm_diff 1.830727841233492e-06\n",
      "Iteration 47 , the current value [ 2.44096758e-06 -2.44096758e-07  6.71916756e-07  6.71916756e-07] norm_diff 1.2204844420152996e-06\n",
      "Iteration 48 , the current value [ 1.62731674e-06 -1.62731674e-07  4.47949541e-07  4.47949541e-07] norm_diff 8.136508335996538e-07\n",
      "Convargence\n"
     ]
    },
    {
     "name": "stderr",
     "output_type": "stream",
     "text": [
      "<lambdifygenerated-8>:2: RuntimeWarning: overflow encountered in long_scalars\n",
      "  return [2*x1 + 20*x2 + 400*(x1 - x4)**3, 20*x1 + 200*x2 + 4*(x2 - 2*x3)**3, 10*x3 - 10*x4 - 8*(x2 - 2*x3)**3, -10*x3 + 10*x4 - 400*(x1 - x4)**3]\n"
     ]
    }
   ],
   "source": [
    "x_intial=np.array([[-2,-1,1,2],[200,-200,100,-100],[100,-100,100,-100]])\n",
    "#x_intial=np.array([[3.4,2.2],[1,1],[1,-5],[10,10],[2,-10],[2000,2000],[3.4,2.2],[4,4],[1,1],[20,20]])\n",
    "Tolerance=10**-6\n",
    "a,b,c=Results(Grad_Vec,Hessian_Mat,x_intial,Tolerance,'yes')"
   ]
  },
  {
   "cell_type": "code",
   "execution_count": 26,
   "metadata": {
    "colab": {
     "base_uri": "https://localhost:8080/"
    },
    "id": "m4DbPHi2tb9A",
    "outputId": "5911d2b6-428e-475d-8b54-caae27f91791"
   },
   "outputs": [
    {
     "name": "stdout",
     "output_type": "stream",
     "text": [
      "\n",
      "\n",
      "extreme point is [-1.63514915e-06  1.63514915e-07  1.11189681e-06  1.11189681e-06]\n",
      "the gradient at extreme point is [-8.291974278417957e-15, -3.501533964213432e-17, 6.996291664848829e-17, 8.291970890286168e-15]\n",
      "the value of objective at tha points= 5.712624175846255e-21\n",
      "\n",
      "\n",
      "extreme point is [ 1.52117757e-06 -1.52117757e-07  3.94434871e-07  3.94434871e-07]\n",
      "the gradient at extreme point is [5.721795332215548e-16, -3.3599227116603614e-18, 6.6656353146964476e-18, -5.721820743203966e-16]\n",
      "the value of objective at tha points= 1.6195952844918804e-22\n",
      "\n",
      "\n",
      "extreme point is [ 1.62731674e-06 -1.62731674e-07  4.47949541e-07  4.47949541e-07]\n",
      "the gradient at extreme point is [6.561577305462995e-16, -4.732073529417793e-18, 9.457370795257551e-18, -6.561221551625148e-16]\n",
      "the value of objective at tha points= 1.9471819354128212e-22\n",
      "\n",
      "\n",
      "The minimum value of f is 1.6195952844918804e-22 ,X* is[ 1.52117757e-06 -1.52117757e-07  3.94434871e-07  3.94434871e-07] \n"
     ]
    }
   ],
   "source": [
    "# find min of function from results\n",
    "[x_min,f_min]=Min_func(f,Grad_Vec,c)\n",
    "print(\"The minimum value of f is {} ,X* is{} \".format(f_min,x_min))"
   ]
  },
  {
   "cell_type": "markdown",
   "metadata": {
    "id": "HMUEbG6j1Guv"
   },
   "source": [
    "This point may or not to ba a global minimization, so we can intialize by random vectors to get closer to global minima"
   ]
  },
  {
   "cell_type": "code",
   "execution_count": 27,
   "metadata": {
    "colab": {
     "base_uri": "https://localhost:8080/"
    },
    "id": "Um-01DlCz1uP",
    "outputId": "3ab4eebe-0a24-4b27-9766-b0e814868a64"
   },
   "outputs": [
    {
     "name": "stdout",
     "output_type": "stream",
     "text": [
      "[[0.98099149 0.60714295 0.86282096 0.12668362]\n",
      " [0.53689914 0.07490981 0.25061447 0.5037221 ]]\n",
      "\n",
      "Intial point is [0.98099149 0.60714295 0.86282096 0.12668362]\n",
      "Convargence\n",
      "\n",
      "Intial point is [0.53689914 0.07490981 0.25061447 0.5037221 ]\n",
      "Convargence\n"
     ]
    }
   ],
   "source": [
    "# generate random intial vectors \n",
    "x_intial=np.random.rand(2,4)\n",
    "print(x_intial)\n",
    "Tolerance=10**-6\n",
    "a,b,c=Results(Grad_Vec,Hessian_Mat,x_intial,Tolerance,'no')"
   ]
  },
  {
   "cell_type": "code",
   "execution_count": 28,
   "metadata": {
    "colab": {
     "base_uri": "https://localhost:8080/"
    },
    "id": "obVPpQc9z19Q",
    "outputId": "fe2eac7f-7a71-4169-b597-e637e2dced44"
   },
   "outputs": [
    {
     "name": "stdout",
     "output_type": "stream",
     "text": [
      "\n",
      "\n",
      "extreme point is [ 1.38682308e-06 -1.38682308e-07  5.06764296e-07  5.06764296e-07]\n",
      "the gradient at extreme point is [2.7264174027148984e-16, -6.135595145081168e-18, 1.222883864279962e-17, -2.726349640079118e-16]\n",
      "the value of objective at tha points= 6.174805770610967e-23\n",
      "\n",
      "\n",
      "extreme point is [ 1.83523428e-06 -1.83523428e-07  1.57570780e-06  1.57570780e-06]\n",
      "the gradient at extreme point is [6.992481757987464e-18, -1.4835556661284184e-16, 2.9672807388462877e-16, -6.995446373302854e-18]\n",
      "the value of objective at tha points= 1.2414849766846272e-22\n",
      "\n",
      "\n",
      "The minimum value of f is 6.174805770610967e-23 ,X* is[ 1.38682308e-06 -1.38682308e-07  5.06764296e-07  5.06764296e-07] \n"
     ]
    }
   ],
   "source": [
    "# find min of function from results\n",
    "[x_min,f_min]=Min_func(f,Grad_Vec,c)\n",
    "print(\"The minimum value of f is {} ,X* is{} \".format(f_min,x_min))"
   ]
  },
  {
   "cell_type": "code",
   "execution_count": null,
   "metadata": {
    "id": "j_leRZnd0rXl"
   },
   "outputs": [],
   "source": []
  },
  {
   "cell_type": "markdown",
   "metadata": {
    "id": "yf0aEKEXtfoj"
   },
   "source": [
    "## Example 5\n",
    "\n",
    " ### <center> Solve the problem: \n",
    "\n",
    "\n",
    "<h3><center> Min $  f(X)=-x_2^2e^{1-x_1^2-20(x_1-x_2)^2} \\\\\n",
    " X_0=([0.1 ,0.1],[0.8,0.1],[1.1,0.1])$ \n",
    "  \n",
    " with $ϵ=10^{-6}$\n",
    " \n",
    "</center></h3>"
   ]
  },
  {
   "cell_type": "code",
   "execution_count": 29,
   "metadata": {
    "colab": {
     "base_uri": "https://localhost:8080/"
    },
    "id": "y-kbdOY4xj-J",
    "outputId": "b0bd2650-d48b-4b4b-9098-bbc5f81cfd40"
   },
   "outputs": [
    {
     "name": "stdout",
     "output_type": "stream",
     "text": [
      "(x1, x2)\n",
      "-x2**2*exp(-x1**2 - 20*(x1 - x2)**2 + 1)\n",
      "[-x2**2*(-42*x1 + 40*x2)*exp(-x1**2 - 20*(x1 - x2)**2 + 1), -x2**2*(40*x1 - 40*x2)*exp(-x1**2 - 20*(x1 - x2)**2 + 1) - 2*x2*exp(-x1**2 - 20*(x1 - x2)**2 + 1)]\n"
     ]
    }
   ],
   "source": [
    "Vars = symbols('x1 x2 ')\n",
    "x1=Vars[0] \n",
    "x2=Vars[1]\n",
    "print(Vars)\n",
    "f=-x2**2*E**(1-x1**2-20*(x1-x2)**2)\n",
    "print(f)\n",
    "F=[f.diff(x1),f.diff(x2)]  \n",
    "print(F)"
   ]
  },
  {
   "cell_type": "code",
   "execution_count": 30,
   "metadata": {
    "colab": {
     "base_uri": "https://localhost:8080/"
    },
    "id": "vOa_KK7pyCXn",
    "outputId": "567bba32-5c20-40db-99bc-1d92e2ff46ac"
   },
   "outputs": [
    {
     "name": "stdout",
     "output_type": "stream",
     "text": [
      "Hessian matrix = [[-x2**2*(-42*x1 + 40*x2)**2*exp(-x1**2 - 20*(x1 - x2)**2 + 1) + 42*x2**2*exp(-x1**2 - 20*(x1 - x2)**2 + 1), -x2**2*(-42*x1 + 40*x2)*(40*x1 - 40*x2)*exp(-x1**2 - 20*(x1 - x2)**2 + 1) - 40*x2**2*exp(-x1**2 - 20*(x1 - x2)**2 + 1) - 2*x2*(-42*x1 + 40*x2)*exp(-x1**2 - 20*(x1 - x2)**2 + 1)], [-x2**2*(-42*x1 + 40*x2)*(40*x1 - 40*x2)*exp(-x1**2 - 20*(x1 - x2)**2 + 1) - 40*x2**2*exp(-x1**2 - 20*(x1 - x2)**2 + 1) - 2*x2*(-42*x1 + 40*x2)*exp(-x1**2 - 20*(x1 - x2)**2 + 1), -x2**2*(40*x1 - 40*x2)**2*exp(-x1**2 - 20*(x1 - x2)**2 + 1) + 40*x2**2*exp(-x1**2 - 20*(x1 - x2)**2 + 1) - 4*x2*(40*x1 - 40*x2)*exp(-x1**2 - 20*(x1 - x2)**2 + 1) - 2*exp(-x1**2 - 20*(x1 - x2)**2 + 1)]]\n"
     ]
    }
   ],
   "source": [
    "Jacobian=Get_Jacobian(F,Vars)\n",
    "print(\"Hessian matrix =\",Jacobian)\n",
    "Grad_Vec = lambdify(Vars, F,'numpy')\n",
    "Hessian_Mat=lambdify(Vars,Jacobian,'numpy')\n",
    "f=lambdify(Vars,f,'numpy')"
   ]
  },
  {
   "cell_type": "code",
   "execution_count": 31,
   "metadata": {
    "colab": {
     "base_uri": "https://localhost:8080/"
    },
    "id": "vFDmd2QVyZQ1",
    "outputId": "7312c584-5922-45c5-af9c-d470f14c516c"
   },
   "outputs": [
    {
     "name": "stdout",
     "output_type": "stream",
     "text": [
      "\n",
      "Intial point is [0.1 0.1]\n",
      "Divargence!\n",
      "\n",
      "Intial point is [0.8 0.1]\n",
      "Divargence!\n",
      "\n",
      "Intial point is [1.1 0.1]\n",
      "Divargence!\n"
     ]
    },
    {
     "name": "stderr",
     "output_type": "stream",
     "text": [
      "<lambdifygenerated-12>:2: RuntimeWarning: invalid value encountered in double_scalars\n",
      "  return [[-x2**2*(-42*x1 + 40*x2)**2*exp(-x1**2 - 20*(x1 - x2)**2 + 1) + 42*x2**2*exp(-x1**2 - 20*(x1 - x2)**2 + 1), -x2**2*(-42*x1 + 40*x2)*(40*x1 - 40*x2)*exp(-x1**2 - 20*(x1 - x2)**2 + 1) - 40*x2**2*exp(-x1**2 - 20*(x1 - x2)**2 + 1) - 2*x2*(-42*x1 + 40*x2)*exp(-x1**2 - 20*(x1 - x2)**2 + 1)], [-x2**2*(-42*x1 + 40*x2)*(40*x1 - 40*x2)*exp(-x1**2 - 20*(x1 - x2)**2 + 1) - 40*x2**2*exp(-x1**2 - 20*(x1 - x2)**2 + 1) - 2*x2*(-42*x1 + 40*x2)*exp(-x1**2 - 20*(x1 - x2)**2 + 1), -x2**2*(40*x1 - 40*x2)**2*exp(-x1**2 - 20*(x1 - x2)**2 + 1) + 40*x2**2*exp(-x1**2 - 20*(x1 - x2)**2 + 1) - 4*x2*(40*x1 - 40*x2)*exp(-x1**2 - 20*(x1 - x2)**2 + 1) - 2*exp(-x1**2 - 20*(x1 - x2)**2 + 1)]]\n",
      "<lambdifygenerated-11>:2: RuntimeWarning: invalid value encountered in double_scalars\n",
      "  return [-x2**2*(-42*x1 + 40*x2)*exp(-x1**2 - 20*(x1 - x2)**2 + 1), -x2**2*(40*x1 - 40*x2)*exp(-x1**2 - 20*(x1 - x2)**2 + 1) - 2*x2*exp(-x1**2 - 20*(x1 - x2)**2 + 1)]\n",
      "C:\\Users\\User\\AppData\\Local\\Temp\\ipykernel_7500\\1380006539.py:5: RuntimeWarning: invalid value encountered in matmul\n",
      "  x_next=x_n-np.matmul(a,b)\n"
     ]
    },
    {
     "data": {
      "text/plain": [
       "([683, 703, 692], ['Divargence', 'Divargence', 'Divargence'], [])"
      ]
     },
     "execution_count": 31,
     "metadata": {},
     "output_type": "execute_result"
    }
   ],
   "source": [
    "x_intial=np.array([[0.1,0.1],[0.8,0.1],[1.1,0.1]])\n",
    "#x_intial=np.array([[3.4,2.2],[1,1],[1,-5],[10,10],[2,-10],[2000,2000],[3.4,2.2],[4,4],[1,1],[20,20]])\n",
    "Tolerance=10**-6\n",
    "Results(Grad_Vec,Hessian_Mat,x_intial,Tolerance,'no')"
   ]
  },
  {
   "cell_type": "markdown",
   "metadata": {
    "id": "AEZb8gGJyjkU"
   },
   "source": [
    "For this problem newton's method Divarge!"
   ]
  },
  {
   "cell_type": "code",
   "execution_count": null,
   "metadata": {
    "id": "-Qr_JoTtzEaX"
   },
   "outputs": [],
   "source": []
  },
  {
   "cell_type": "markdown",
   "metadata": {
    "id": "KUHcyiqt5Bk0"
   },
   "source": [
    "<center><h2><b> QR factorization using Gram–Schmidt</b></h2></center> "
   ]
  },
  {
   "cell_type": "markdown",
   "metadata": {
    "id": "15mOmKWO6Tmd"
   },
   "source": [
    "## Example 6 Factorise the matrtics\n",
    "$A=\n",
    "\\begin{bmatrix}\n",
    "1 & 1 & 0\\\\\n",
    "1 & 0 & 1\\\\\n",
    "0 & 1 & 1\n",
    "\\end{bmatrix} \n",
    "B=\\begin{bmatrix}\n",
    "1 & -1 & 4\\\\\n",
    "1 & 4 & -2\\\\\n",
    "1 & 4 & 2\\\\\n",
    "1 & -1 & 0\n",
    "\\end{bmatrix}$"
   ]
  },
  {
   "cell_type": "code",
   "execution_count": 32,
   "metadata": {
    "colab": {
     "base_uri": "https://localhost:8080/"
    },
    "id": "M1CUvaRGAZUm",
    "outputId": "d985ef6d-9ee3-4010-869b-ed67c319db8c"
   },
   "outputs": [
    {
     "name": "stdout",
     "output_type": "stream",
     "text": [
      "Matrix \n",
      " [[1 1 0]\n",
      " [1 0 1]\n",
      " [0 1 1]]\n",
      "Orthonormal Q matrix \n",
      " [[ 0.70710678  0.40824829 -0.57735027]\n",
      " [ 0.70710678 -0.40824829  0.57735027]\n",
      " [ 0.          0.81649658  0.57735027]]\n",
      "Upper matrix R\n",
      " [[1.41421356 0.70710678 0.70710678]\n",
      " [0.         1.22474487 0.40824829]\n",
      " [0.         0.         1.15470054]]\n",
      "Matrix \n",
      " [[ 1 -1  4]\n",
      " [ 1  4 -2]\n",
      " [ 1  4  2]\n",
      " [ 1 -1  0]]\n",
      "Orthonormal Q matrix \n",
      " [[ 0.5 -0.5  0.5]\n",
      " [ 0.5  0.5 -0.5]\n",
      " [ 0.5  0.5  0.5]\n",
      " [ 0.5 -0.5 -0.5]]\n",
      "Upper matrix R\n",
      " [[ 2.  3.  2.]\n",
      " [ 0.  5. -2.]\n",
      " [ 0.  0.  4.]\n",
      " [ 0.  0.  0.]]\n",
      "Matrix \n",
      " [[-1 -1  1]\n",
      " [ 1  3  3]\n",
      " [-1 -1  5]\n",
      " [ 1  3  7]]\n",
      "Orthonormal Q matrix \n",
      " [[-0.5  0.5 -0.5]\n",
      " [ 0.5  0.5 -0.5]\n",
      " [-0.5  0.5  0.5]\n",
      " [ 0.5  0.5  0.5]]\n",
      "Upper matrix R\n",
      " [[2. 4. 2.]\n",
      " [0. 2. 8.]\n",
      " [0. 0. 4.]\n",
      " [0. 0. 0.]]\n"
     ]
    }
   ],
   "source": [
    "\n",
    "A=np.array([[1,1,0],[1,0,1],[0,1,1]])\n",
    "B=np.array([[1,-1,4],[1,4,-2],[1,4,2],[1,-1,0]])\n",
    "C=np.array([[-1,-1,1],[1,3,3],[-1,-1,5],[1,3,7]])\n",
    "L=[A,B,C]\n",
    "\n",
    "             \n",
    "\n",
    "for Mat in L:\n",
    "  [Q,R]=Gram_Schmidt_QR(Mat)\n",
    "  print(\"Matrix \\n\",Mat)\n",
    "  print(\"Orthonormal Q matrix \\n\",Q)\n",
    "  print(\"Upper matrix R\\n\",R)\n"
   ]
  },
  {
   "cell_type": "code",
   "execution_count": 33,
   "metadata": {
    "colab": {
     "base_uri": "https://localhost:8080/"
    },
    "id": "pn05hxYL9hH_",
    "outputId": "14d7ec45-9842-4281-f479-5125a647e95d"
   },
   "outputs": [
    {
     "name": "stdout",
     "output_type": "stream",
     "text": [
      "Matrix \n",
      " [[1 1 0]\n",
      " [1 0 1]\n",
      " [0 1 1]]\n",
      "Orthonormal Q matrix \n",
      " [[-0.70710678  0.40824829 -0.57735027]\n",
      " [-0.70710678 -0.40824829  0.57735027]\n",
      " [-0.          0.81649658  0.57735027]]\n",
      "Upper matrix R\n",
      " [[-1.41421356 -0.70710678 -0.70710678]\n",
      " [ 0.          1.22474487  0.40824829]\n",
      " [ 0.          0.          1.15470054]]\n",
      "Matrix \n",
      " [[ 1 -1  4]\n",
      " [ 1  4 -2]\n",
      " [ 1  4  2]\n",
      " [ 1 -1  0]]\n",
      "Orthonormal Q matrix \n",
      " [[-0.5  0.5 -0.5 -0.5]\n",
      " [-0.5 -0.5  0.5 -0.5]\n",
      " [-0.5 -0.5 -0.5  0.5]\n",
      " [-0.5  0.5  0.5  0.5]]\n",
      "Upper matrix R\n",
      " [[-2. -3. -2.]\n",
      " [ 0. -5.  2.]\n",
      " [ 0.  0. -4.]\n",
      " [ 0.  0.  0.]]\n",
      "Matrix \n",
      " [[-1 -1  1]\n",
      " [ 1  3  3]\n",
      " [-1 -1  5]\n",
      " [ 1  3  7]]\n",
      "Orthonormal Q matrix \n",
      " [[-0.5 -0.5  0.5  0.5]\n",
      " [ 0.5 -0.5  0.5 -0.5]\n",
      " [-0.5 -0.5 -0.5 -0.5]\n",
      " [ 0.5 -0.5 -0.5  0.5]]\n",
      "Upper matrix R\n",
      " [[ 2.  4.  2.]\n",
      " [ 0. -2. -8.]\n",
      " [ 0.  0. -4.]\n",
      " [ 0.  0.  0.]]\n"
     ]
    }
   ],
   "source": [
    "# compare to built in function\n",
    "import scipy.linalg \n",
    "for Mat in L:\n",
    "  Q, R = scipy.linalg.qr(Mat)\n",
    "  print(\"Matrix \\n\",Mat)\n",
    "  print(\"Orthonormal Q matrix \\n\",Q)\n",
    "  print(\"Upper matrix R\\n\",R)\n",
    "# extrac naegative sign in R matrix!"
   ]
  },
  {
   "cell_type": "markdown",
   "metadata": {
    "id": "AjUwLbST9tQd"
   },
   "source": [
    "### References\n",
    "\n",
    "\n",
    "1.    Intermediate Numerical Analysis by Prof.Dr.Hassan Nasr Ahmed Ismail \n",
    "2.   Numerical Analysis by Richard L.Burden & J.Douglas Faires 9th edition \n",
    "3.   Practical Optimisation Algorithms And Engineering Applications by Andreas Antoniou & Wu_Sheng Lu\n",
    "\n",
    "\n",
    "\n",
    "\n",
    "\n",
    "\n",
    "\n",
    "\n",
    "\n",
    "\n",
    "\n",
    "\n"
   ]
  },
  {
   "cell_type": "code",
   "execution_count": null,
   "metadata": {
    "id": "k46UcI4k_B7q"
   },
   "outputs": [],
   "source": []
  },
  {
   "cell_type": "code",
   "execution_count": null,
   "metadata": {
    "id": "uf0oBk56_wOL"
   },
   "outputs": [],
   "source": []
  }
 ],
 "metadata": {
  "colab": {
   "collapsed_sections": [],
   "name": "Newton_Method&QR.ipynb",
   "provenance": []
  },
  "kernelspec": {
   "display_name": "Python 3 (ipykernel)",
   "language": "python",
   "name": "python3"
  },
  "language_info": {
   "codemirror_mode": {
    "name": "ipython",
    "version": 3
   },
   "file_extension": ".py",
   "mimetype": "text/x-python",
   "name": "python",
   "nbconvert_exporter": "python",
   "pygments_lexer": "ipython3",
   "version": "3.9.12"
  }
 },
 "nbformat": 4,
 "nbformat_minor": 1
}
